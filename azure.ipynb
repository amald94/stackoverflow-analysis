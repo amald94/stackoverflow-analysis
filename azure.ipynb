{
 "cells": [
  {
   "cell_type": "markdown",
   "metadata": {},
   "source": [
    "### Convert XML FILE TO AVRO"
   ]
  },
  {
   "cell_type": "markdown",
   "metadata": {},
   "source": [
    "we are using hadoop 2.7.3 so Download avro-1.7.4.jar and avro-mapred-1.7.4-hadoop2.jar from apache server."
   ]
  },
  {
   "cell_type": "markdown",
   "metadata": {},
   "source": [
    "Step 1 : Build the jar from the maven project and upload it to azure cloud"
   ]
  },
  {
   "cell_type": "code",
   "execution_count": null,
   "metadata": {},
   "outputs": [],
   "source": [
    "#execute these commands from root directory of your maven project will generate a JAR* file which will be used later\n",
    "# Wordcount-1.0-SNAPSHOT.jar\n",
    "\n",
    "mvn clean\n",
    "\n",
    "mvn package -Dmaven.test.skip=true"
   ]
  },
  {
   "cell_type": "code",
   "execution_count": null,
   "metadata": {},
   "outputs": [],
   "source": [
    "# export the jar file path \n",
    "# execute below command from the same directory you save jars\n",
    "\n",
    "export LIBJARS=avro-1.7.7.jar,avro-mapred-1.7.7-hadoop2.jar\n",
    "export HADOOP_CLASSPATH=avro-1.7.7.jar:avro-mapred-1.7.7-hadoop2.jar"
   ]
  },
  {
   "cell_type": "markdown",
   "metadata": {},
   "source": [
    "execute the generated mvn jar file by passing path to xml file and path to output folder"
   ]
  },
  {
   "cell_type": "code",
   "execution_count": null,
   "metadata": {},
   "outputs": [],
   "source": [
    "hadoop jar WordCount-1.0-SNAPSHOT.jar com.amal.stackOverflow.xmlToAvro -libjars $LIBJARS /LDZ/data/Posts.xml /LDZ/avro"
   ]
  },
  {
   "cell_type": "markdown",
   "metadata": {},
   "source": [
    "at the end of the execution it will generate multiple avro files from the xml file which will be loaded to hive table later."
   ]
  },
  {
   "cell_type": "markdown",
   "metadata": {},
   "source": [
    "### create a hive table and load the avro data to hive db"
   ]
  },
  {
   "cell_type": "code",
   "execution_count": null,
   "metadata": {},
   "outputs": [],
   "source": [
    "drop table if exists posts;\n",
    "create external table posts(\n",
    "  id            string,\n",
    "  posttypeid    string,\n",
    "  acceptedanswerid   string,\n",
    "  parentid   string,\n",
    "  creationdate string,\n",
    "  score        string,\n",
    "  viewcount    string,\n",
    "  body         string,\n",
    "  owneruserid  string,\n",
    "  ownerdisplayname string,\n",
    "  lasteditoruserid  string,\n",
    "  lasteditordisplayname string,\n",
    "  lasteditdate     string,\n",
    "  lastactivitydate string,\n",
    "  title            string,\n",
    "  tags             string,\n",
    "  answercount      string,\n",
    "  commentcount     string,\n",
    "  favoritecount    string,\n",
    "  closeddate       string,\n",
    "  communityowneddate string\n",
    ")\n",
    "stored as avro location '/LDZ/avro';"
   ]
  },
  {
   "cell_type": "markdown",
   "metadata": {},
   "source": [
    "### check if data is loaded properly"
   ]
  },
  {
   "cell_type": "code",
   "execution_count": null,
   "metadata": {},
   "outputs": [],
   "source": [
    "select count(*) from posts;\n",
    "\n",
    "select id, to_date(creationdate) from posts limit 10;"
   ]
  },
  {
   "cell_type": "markdown",
   "metadata": {},
   "source": [
    "### check count of unique dates and post types"
   ]
  },
  {
   "cell_type": "code",
   "execution_count": null,
   "metadata": {},
   "outputs": [],
   "source": [
    "select count(distinct to_date(creationdate)) FROM posts;"
   ]
  },
  {
   "cell_type": "markdown",
   "metadata": {},
   "source": [
    "Output : \n",
    "    \n",
    "OK\n",
    "3959\n",
    "Time taken: 129.413 seconds, Fetched: 1 row(s)"
   ]
  },
  {
   "cell_type": "code",
   "execution_count": null,
   "metadata": {},
   "outputs": [],
   "source": [
    "select count(distinct posttypeid) FROM posts;"
   ]
  },
  {
   "cell_type": "markdown",
   "metadata": {},
   "source": [
    "Output:\n",
    "\n",
    "OK\n",
    "8\n",
    "Time taken: 114.15 seconds, Fetched: 1 row(s)\n"
   ]
  },
  {
   "cell_type": "markdown",
   "metadata": {},
   "source": [
    "### save unique dates to hdfs for further processing"
   ]
  },
  {
   "cell_type": "code",
   "execution_count": null,
   "metadata": {},
   "outputs": [],
   "source": [
    "INSERT OVERWRITE DIRECTORY '/LDZ/temp/dates' SELECT distinct to_date(creationdate) FROM posts;"
   ]
  },
  {
   "cell_type": "markdown",
   "metadata": {},
   "source": [
    "### create a bash script to save the dates from hdfs to local file system as a text file"
   ]
  },
  {
   "cell_type": "code",
   "execution_count": null,
   "metadata": {},
   "outputs": [],
   "source": [
    "### we have 504 parts of files in hdfs starting from 0\n",
    "### save each piece of data into a text file by appending the file\n",
    "i=\"000000\"\n",
    "p=\"_0\"\n",
    "for i in $(seq -f \"%06g\" 0 504)\n",
    "do\n",
    "  hadoop fs -cat /LDZ/temp/dates/$i$p >> dates.txt\n",
    "done"
   ]
  },
  {
   "cell_type": "markdown",
   "metadata": {},
   "source": [
    "### BUILD DATAWAREHOUSE"
   ]
  },
  {
   "cell_type": "markdown",
   "metadata": {},
   "source": [
    "### script to generate data warehouse with post dates and post types"
   ]
  },
  {
   "cell_type": "markdown",
   "metadata": {},
   "source": [
    "since we have 8 unique post types and 3959 unique dates in dates.txt file. run the below script by passing the dates.txt file"
   ]
  },
  {
   "cell_type": "markdown",
   "metadata": {},
   "source": [
    "export hive query result to a temp folder and then copy that data to the warehouse directory."
   ]
  },
  {
   "cell_type": "code",
   "execution_count": null,
   "metadata": {},
   "outputs": [],
   "source": [
    "#!/bin/bash\n",
    "i=\"1\"\n",
    "while IFS= read -r line; do\n",
    "    echo \"Text read from file: '$line'\"\n",
    "    while [ $i -lt 9 ]\n",
    "        do\n",
    "        echo $i\n",
    "        hive -e \"INSERT OVERWRITE DIRECTORY '/LDZ/temp/day' STORED AS TEXTFILE select * from stackoverflow.posts WHERE to_date(creationdate)='$line' and posttypeid=='$i';\"\n",
    "        hadoop fs -mkdir -p /DWZ/$line/$i\n",
    "        hadoop fs -cp /LDZ/temp/day /DWZ/$line/$i\n",
    "        i=$[$i+1]\n",
    "        done\n",
    "    i=\"1\"\n",
    "done < \"$1\"\n"
   ]
  },
  {
   "cell_type": "markdown",
   "metadata": {},
   "source": [
    "### QUESTIONS"
   ]
  },
  {
   "cell_type": "markdown",
   "metadata": {},
   "source": [
    "1 - What are the top 10 most answered questions in Stack Overflow posts for a particular creation date?\n"
   ]
  },
  {
   "cell_type": "code",
   "execution_count": null,
   "metadata": {},
   "outputs": [],
   "source": [
    "SELECT to_date(creationdate) as CreationDate, posttypeid, answercount, title from posts where to_date(creationdate)='2009-03-27' and posttypeid=='1' and answercount >=0 order by 1,2,3, answercount desc limit 10;"
   ]
  },
  {
   "cell_type": "code",
   "execution_count": null,
   "metadata": {},
   "outputs": [],
   "source": [
    "hive> SELECT to_date(creationdate) as CreationDate, posttypeid, answercount, title from posts \\\n",
    "      where to_date(creationdate)='2009-03-27' and posttypeid=='1' and answercount >=0  \\\n",
    "      order by 1,2,3, answercount desc limit 10;\n",
    "\n",
    "\n",
    "Task Execution Summary\n",
    "------------------------------------------------------------------------------------------------------------------\n",
    "  VERTICES  TOTAL_TASKS  FAILED_ATTEMPTS  KILLED_TASKS   DURATION(ms)  CPU_TIME(ms)  GC_TIME(ms)  INPUT_RECORDS  OUTPUT_RECORDS\n",
    "------------------------------------------------------------------------------------------------------------------\n",
    "     Map 1          136                0             0      116106.00     2,995,390      335,423     44,945,353              20\n",
    " Reducer 2            1                0             0       22223.00         2,410           20             20               0\n",
    "------------------------------------------------------------------------------------------------------------------\n",
    "\n",
    "OK\n",
    "2009-03-27\t1\t9\tWhat is the best way to learn Touch Typing?\n",
    "2009-03-27\t1\t9\tBuild and Version Numbering for Java Projects (ant, cvs, hudson)\n",
    "2009-03-27\t1\t9\tUsing app.config with a class library\n",
    "2009-03-27\t1\t9\tWhy cast unused return values to void?\n",
    "2009-03-27\t1\t9\tWhy do I need to know how many tests I will be running with Test::More?\n",
    "2009-03-27\t1\t9\tCSS, centered div, shrink to fit?\n",
    "2009-03-27\t1\t9\tDebugging scripts added via jQuery getScript function\n",
    "2009-03-27\t1\t9\tpush_back for vector, deque and lists\n",
    "2009-03-27\t1\t9\tDoes anyone use Right Outer Joins?\n",
    "2009-03-27\t1\t8\tUsing SVG in GWT\n",
    "Time taken: 120.106 seconds, Fetched: 10 row(s)\n",
    "hive> "
   ]
  },
  {
   "cell_type": "markdown",
   "metadata": {},
   "source": [
    "## lets do it by script and generate a text file out of it\n"
   ]
  },
  {
   "cell_type": "code",
   "execution_count": 3,
   "metadata": {},
   "outputs": [],
   "source": [
    "## output will be saved to popular.txt"
   ]
  },
  {
   "cell_type": "code",
   "execution_count": null,
   "metadata": {},
   "outputs": [],
   "source": [
    "echo Hello, Which day you want to search for ? please enter the date in yyyy-mm-dd format.\n",
    "\n",
    "read date\n",
    "\n",
    "echo Which post type you want to look for ? please enter from 1 - 8.\n",
    "\n",
    "read type\n",
    "\n",
    "hive -e \"SELECT to_date(creationdate) as CreationDate, posttypeid, answercount, title from posts where to_date(creationdate)='$date' and posttypeid=='$type' and answercount >=0 order by 1,2,3, answercount desc limit 10;\" >> popular.txt\n"
   ]
  },
  {
   "cell_type": "markdown",
   "metadata": {},
   "source": [
    "Question 2 - What’s the percentage of Stack Overflow questions that went unanswered in say 2015?\n"
   ]
  },
  {
   "cell_type": "code",
   "execution_count": null,
   "metadata": {},
   "outputs": [],
   "source": [
    "SELECT year(to_date(creationdate)) as Creation_Date, COUNT(*) as total, SUM(CASE WHEN answercount = 0 THEN 1 ELSE 0 END) AS Unanswered, AVG(CASE WHEN answercount = 0 THEN 1 ELSE 0 END) * 100 AS Percentage FROM stackoverflow.posts where year(to_date(creationdate))='2015' GROUP BY year(to_date(creationdate)) ORDER BY Unanswered DESC;\n",
    "\n",
    "OK\n",
    "2015\t5382945\t728662\t13.53649349937627\n",
    "Time taken: 132.013 seconds, Fetched: 1 row(s)"
   ]
  },
  {
   "cell_type": "code",
   "execution_count": null,
   "metadata": {},
   "outputs": [],
   "source": [
    "echo Hello, Which year you want to search ? \n",
    "\n",
    "read date\n",
    "echo \"CreationDate,TotalPosts,Percentage\" >> question2.txt\n",
    "hive -e \"SELECT year(to_date(creationdate)) as Creation_Date, COUNT(*) as total, SUM(CASE WHEN answercount = 0 THEN 1 ELSE 0 END) AS Unanswered, AVG(CASE WHEN answercount = 0 THEN 1 ELSE 0 END) * 100 AS Percentage FROM stackoverflow.posts where year(to_date(creationdate))='$date' GROUP BY year(to_date(creationdate)) ORDER BY Unanswered DESC;\" >> question2.txt\n"
   ]
  },
  {
   "cell_type": "code",
   "execution_count": null,
   "metadata": {},
   "outputs": [],
   "source": [
    "******************** DONE *******************************"
   ]
  },
  {
   "cell_type": "code",
   "execution_count": null,
   "metadata": {},
   "outputs": [],
   "source": []
  }
 ],
 "metadata": {
  "kernelspec": {
   "display_name": "Python 3",
   "language": "python",
   "name": "python3"
  },
  "language_info": {
   "codemirror_mode": {
    "name": "ipython",
    "version": 3
   },
   "file_extension": ".py",
   "mimetype": "text/x-python",
   "name": "python",
   "nbconvert_exporter": "python",
   "pygments_lexer": "ipython3",
   "version": "3.6.4"
  }
 },
 "nbformat": 4,
 "nbformat_minor": 2
}
